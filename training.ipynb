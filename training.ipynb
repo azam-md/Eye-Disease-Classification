{
 "cells": [
  {
   "cell_type": "code",
   "execution_count": 1,
   "id": "2380a86b-01d1-43fd-b0cb-f5885bddcde2",
   "metadata": {},
   "outputs": [],
   "source": [
    "import os\n",
    "import numpy as np\n",
    "import tensorflow as tf\n",
    "from tensorflow.keras.preprocessing.image import ImageDataGenerator\n",
    "from tensorflow.keras.models import Sequential\n",
    "from tensorflow.keras.layers import Conv2D, MaxPooling2D, Flatten, Dense, Dropout\n"
   ]
  },
  {
   "cell_type": "code",
   "execution_count": 1,
   "id": "cc3c4b17-40f3-4ca6-82e1-ceeadcb6cc2c",
   "metadata": {},
   "outputs": [],
   "source": [
    "import os"
   ]
  },
  {
   "cell_type": "code",
   "execution_count": 2,
   "id": "c2e0d1f7-c959-4b77-9f50-9c66c852fd4a",
   "metadata": {},
   "outputs": [],
   "source": [
    "import numpy as np\n",
    "import tensorflow as tf"
   ]
  },
  {
   "cell_type": "code",
   "execution_count": 3,
   "id": "d9d2f0df-0a21-4c35-be28-4623ea242223",
   "metadata": {},
   "outputs": [],
   "source": [
    "from tensorflow.keras.preprocessing.image import ImageDataGenerator\n",
    "from tensorflow.keras.models import Sequential\n",
    "from tensorflow.keras.layers import Conv2D, MaxPooling2D, Flatten, Dense, Dropout\n"
   ]
  },
  {
   "cell_type": "code",
   "execution_count": 14,
   "id": "4e20ccfa-c121-43d5-a980-79288c03f9f4",
   "metadata": {},
   "outputs": [],
   "source": [
    "\n",
    "# Define the directory path\n",
    "data_dir = 'D:/B Tech/IV Year/capstone2/dataset/'\n",
    "\n",
    "# Define the batch size\n",
    "batch_size = 32\n",
    "\n",
    "# Define the image size\n",
    "image_size = (222, 222)\n"
   ]
  },
  {
   "cell_type": "code",
   "execution_count": null,
   "id": "bd8c8c1b-3dca-4a12-92cf-660d39c027d4",
   "metadata": {},
   "outputs": [],
   "source": []
  },
  {
   "cell_type": "code",
   "execution_count": 20,
   "id": "5891b522-ba8c-472c-995f-fbb2937c17e9",
   "metadata": {},
   "outputs": [
    {
     "name": "stdout",
     "output_type": "stream",
     "text": [
      "Found 3376 images belonging to 4 classes.\n",
      "Found 841 images belonging to 4 classes.\n"
     ]
    }
   ],
   "source": [
    "datagen = ImageDataGenerator(\n",
    "    rescale=1.0 / 255.0,\n",
    "    rotation_range=40,\n",
    "    width_shift_range=0.2,\n",
    "    height_shift_range=0.2,\n",
    "    shear_range=0.2,\n",
    "    zoom_range=0.2,\n",
    "    horizontal_flip=True,\n",
    "    fill_mode='nearest',\n",
    "    validation_split=0.2  # Split the data into 80% training and 20% validation\n",
    ")\n",
    "\n",
    "# Load and split the data into training and validation sets\n",
    "train_generator = datagen.flow_from_directory(\n",
    "    data_dir,\n",
    "    target_size=image_size,\n",
    "    batch_size=batch_size,\n",
    "    class_mode='categorical',\n",
    "    subset='training'  # Use the training subset\n",
    ")\n",
    "\n",
    "validation_generator = datagen.flow_from_directory(\n",
    "    data_dir,\n",
    "    target_size=image_size,\n",
    "    batch_size=batch_size,\n",
    "    class_mode='categorical',\n",
    "    subset='validation'  # Use the validation subset\n",
    ")"
   ]
  },
  {
   "cell_type": "code",
   "execution_count": 21,
   "id": "8796b6af-a31b-4ac5-85fa-460f74ec0d54",
   "metadata": {},
   "outputs": [],
   "source": [
    "\n",
    "# Create the CNN model (same as before)\n",
    "model = Sequential([\n",
    "    Conv2D(32, (3, 3), activation='relu', input_shape=(image_size[0], image_size[1], 3)),\n",
    "    MaxPooling2D(2, 2),\n",
    "    Conv2D(64, (3, 3), activation='relu'),\n",
    "    MaxPooling2D(2, 2),\n",
    "    Conv2D(128, (3, 3), activation='relu'),\n",
    "    MaxPooling2D(2, 2),\n",
    "    Conv2D(128, (3, 3), activation='relu'),\n",
    "    MaxPooling2D(2, 2),\n",
    "    Flatten(),\n",
    "    Dense(512, activation='relu'),\n",
    "    Dropout(0.5),\n",
    "    Dense(4, activation='softmax')\n",
    "])\n"
   ]
  },
  {
   "cell_type": "code",
   "execution_count": 22,
   "id": "45196d66-6216-4699-bb84-1c86c9e901f0",
   "metadata": {},
   "outputs": [
    {
     "name": "stdout",
     "output_type": "stream",
     "text": [
      "Epoch 1/20\n",
      "105/105 [==============================] - 522s 5s/step - loss: 1.2535 - accuracy: 0.4010 - val_loss: 1.3039 - val_accuracy: 0.3942\n",
      "Epoch 2/20\n",
      "105/105 [==============================] - 323s 3s/step - loss: 0.9601 - accuracy: 0.5505 - val_loss: 1.5260 - val_accuracy: 0.4014\n",
      "Epoch 3/20\n",
      "105/105 [==============================] - 327s 3s/step - loss: 0.8968 - accuracy: 0.5921 - val_loss: 1.3551 - val_accuracy: 0.4123\n",
      "Epoch 4/20\n",
      "105/105 [==============================] - 316s 3s/step - loss: 0.8441 - accuracy: 0.6208 - val_loss: 1.4725 - val_accuracy: 0.4387\n",
      "Epoch 5/20\n",
      "105/105 [==============================] - 281s 3s/step - loss: 0.8072 - accuracy: 0.6423 - val_loss: 1.6328 - val_accuracy: 0.4062\n",
      "Epoch 6/20\n",
      "105/105 [==============================] - 308s 3s/step - loss: 0.8002 - accuracy: 0.6468 - val_loss: 1.3940 - val_accuracy: 0.4435\n",
      "Epoch 7/20\n",
      "105/105 [==============================] - 322s 3s/step - loss: 0.7673 - accuracy: 0.6684 - val_loss: 1.2857 - val_accuracy: 0.4627\n",
      "Epoch 8/20\n",
      "105/105 [==============================] - 272s 3s/step - loss: 0.7663 - accuracy: 0.6648 - val_loss: 1.4105 - val_accuracy: 0.4255\n",
      "Epoch 9/20\n",
      "105/105 [==============================] - 265s 3s/step - loss: 0.7612 - accuracy: 0.6693 - val_loss: 1.4418 - val_accuracy: 0.4243\n",
      "Epoch 10/20\n",
      "105/105 [==============================] - 272s 3s/step - loss: 0.7407 - accuracy: 0.6699 - val_loss: 1.4171 - val_accuracy: 0.4459\n",
      "Epoch 11/20\n",
      "105/105 [==============================] - 270s 3s/step - loss: 0.7366 - accuracy: 0.6740 - val_loss: 1.3843 - val_accuracy: 0.4543\n",
      "Epoch 12/20\n",
      "105/105 [==============================] - 261s 2s/step - loss: 0.7251 - accuracy: 0.6842 - val_loss: 1.5021 - val_accuracy: 0.4567\n",
      "Epoch 13/20\n",
      "105/105 [==============================] - 265s 3s/step - loss: 0.7000 - accuracy: 0.6938 - val_loss: 1.4365 - val_accuracy: 0.4591\n",
      "Epoch 14/20\n",
      "105/105 [==============================] - 272s 3s/step - loss: 0.6971 - accuracy: 0.6971 - val_loss: 1.5604 - val_accuracy: 0.4531\n",
      "Epoch 15/20\n",
      "105/105 [==============================] - 351s 3s/step - loss: 0.6888 - accuracy: 0.6986 - val_loss: 1.2138 - val_accuracy: 0.4700\n",
      "Epoch 16/20\n",
      "105/105 [==============================] - 288s 3s/step - loss: 0.6994 - accuracy: 0.6959 - val_loss: 1.3102 - val_accuracy: 0.4808\n",
      "Epoch 17/20\n",
      "105/105 [==============================] - 285s 3s/step - loss: 0.6687 - accuracy: 0.7216 - val_loss: 1.3745 - val_accuracy: 0.4832\n",
      "Epoch 18/20\n",
      "105/105 [==============================] - 291s 3s/step - loss: 0.6692 - accuracy: 0.7072 - val_loss: 1.4249 - val_accuracy: 0.4928\n",
      "Epoch 19/20\n",
      "105/105 [==============================] - 304s 3s/step - loss: 0.6380 - accuracy: 0.7282 - val_loss: 1.3931 - val_accuracy: 0.4940\n",
      "Epoch 20/20\n",
      "105/105 [==============================] - 325s 3s/step - loss: 0.6428 - accuracy: 0.7285 - val_loss: 1.2512 - val_accuracy: 0.4928\n"
     ]
    }
   ],
   "source": [
    "\n",
    "# Compile the model (same as before)\n",
    "model.compile(optimizer='adam',\n",
    "              loss='categorical_crossentropy',\n",
    "              metrics=['accuracy'])\n",
    "\n",
    "# Train the model (same as before)\n",
    "history = model.fit(\n",
    "    train_generator,\n",
    "    steps_per_epoch=train_generator.samples // batch_size,\n",
    "    epochs=20,\n",
    "    validation_data=validation_generator,\n",
    "    validation_steps=validation_generator.samples // batch_size\n",
    ")\n"
   ]
  },
  {
   "cell_type": "code",
   "execution_count": 28,
   "id": "9a39b9e1-e884-45e8-8846-5e16c2a4f6da",
   "metadata": {},
   "outputs": [
    {
     "name": "stdout",
     "output_type": "stream",
     "text": [
      "106/106 [==============================] - 560s 5s/step - loss: 0.6101 - accuracy: 0.7382\n",
      "Test Loss: 0.6101059913635254\n",
      "Test Accuracy: 0.7381516695022583\n"
     ]
    }
   ],
   "source": [
    "# Evaluate the model\n",
    "test_loss, test_accuracy = model.evaluate(train_generator)\n",
    "print(\"Test Loss:\", test_loss)\n",
    "print(\"Test Accuracy:\", test_accuracy)"
   ]
  },
  {
   "cell_type": "code",
   "execution_count": 24,
   "id": "30770613-8803-422a-863b-c844c16ae919",
   "metadata": {},
   "outputs": [
    {
     "name": "stderr",
     "output_type": "stream",
     "text": [
      "C:\\Users\\lant\\AppData\\Local\\Packages\\PythonSoftwareFoundation.Python.3.11_qbz5n2kfra8p0\\LocalCache\\local-packages\\Python311\\site-packages\\keras\\src\\engine\\training.py:3000: UserWarning: You are saving your model as an HDF5 file via `model.save()`. This file format is considered legacy. We recommend using instead the native Keras format, e.g. `model.save('my_model.keras')`.\n",
      "  saving_api.save_model(\n"
     ]
    }
   ],
   "source": [
    "\n",
    "# Save the model (same as before)\n",
    "model.save(\"eye_disease_model.h5\")\n"
   ]
  },
  {
   "cell_type": "code",
   "execution_count": 25,
   "id": "45f0ad8a-7a13-4226-acf4-8dca2b075473",
   "metadata": {},
   "outputs": [
    {
     "data": {
      "image/png": "[encoded data removed]",
      "text/plain": [
       "<Figure size 640x480 with 1 Axes>"
      ]
     },
     "metadata": {},
     "output_type": "display_data"
    },
    {
     "data": {
      "image/png": "[encoded data removed]",
      "text/plain": [
       "<Figure size 640x480 with 1 Axes>"
      ]
     },
     "metadata": {},
     "output_type": "display_data"
    }
   ],
   "source": [
    "import matplotlib.pyplot as plt\n",
    "\n",
    "# Plot training & validation accuracy values\n",
    "plt.plot(history.history['accuracy'])\n",
    "plt.plot(history.history['val_accuracy'])\n",
    "plt.title('Model accuracy')\n",
    "plt.xlabel('Epoch')\n",
    "plt.ylabel('Accuracy')\n",
    "plt.legend(['Train', 'Validation'], loc='upper left')\n",
    "plt.show()\n",
    "\n",
    "# Plot training & validation loss values\n",
    "plt.plot(history.history['loss'])\n",
    "plt.plot(history.history['val_loss'])\n",
    "plt.title('Model loss')\n",
    "plt.xlabel('Epoch')\n",
    "plt.ylabel('Loss')\n",
    "plt.legend(['Train', 'Validation'], loc='upper left')\n",
    "plt.show()\n"
   ]
  },
  {
   "cell_type": "code",
   "execution_count": 27,
   "id": "19103904-69d1-41ef-a322-26682be68b65",
   "metadata": {},
   "outputs": [
    {
     "name": "stdout",
     "output_type": "stream",
     "text": [
      "1/1 [==============================] - 21s 21s/step\n",
      "Predicted class: cataract\n"
     ]
    }
   ],
   "source": [
    "import numpy as np\n",
    "from tensorflow.keras.preprocessing import image\n",
    "\n",
    "# Load the saved model\n",
    "model = tf.keras.models.load_model(\"eye_disease_model.h5\")\n",
    "\n",
    "# Define the class labels\n",
    "class_labels = ['cataract', 'glaucoma', 'normal', 'diabetic_retinopathy']\n",
    "\n",
    "# Load and preprocess the image you want to predict\n",
    "img_path = 'D:/B Tech/IV Year/capstone2/dataset/cataract/_0_4015166.jpg'  # Replace with the path to your image\n",
    "img = image.load_img(img_path, target_size=(image_size[0], image_size[1]))\n",
    "img_array = image.img_to_array(img)\n",
    "img_array = np.expand_dims(img_array, axis=0) / 255.0  # Normalize pixel values\n",
    "\n",
    "# Make prediction\n",
    "predictions = model.predict(img_array)\n",
    "\n",
    "# Get the predicted class label\n",
    "predicted_label_index = np.argmax(predictions[0])\n",
    "predicted_label = class_labels[predicted_label_index]\n",
    "\n",
    "print(\"Predicted class:\", predicted_label)\n"
   ]
  },
  {
   "cell_type": "code",
   "execution_count": null,
   "id": "6453bb97-9b2f-4d32-88bf-3d92cb132913",
   "metadata": {},
   "outputs": [],
   "source": []
  },
  {
   "cell_type": "code",
   "execution_count": null,
   "id": "470ab2c6-9358-446e-a305-496c3619098d",
   "metadata": {},
   "outputs": [],
   "source": []
  },
  {
   "cell_type": "code",
   "execution_count": null,
   "id": "eecc2949-0f88-4615-a02a-7f17a3ef32aa",
   "metadata": {},
   "outputs": [],
   "source": []
  },
  {
   "cell_type": "code",
   "execution_count": null,
   "id": "f675d9e1-705a-4ca6-804b-a919898ad7df",
   "metadata": {},
   "outputs": [],
   "source": []
  },
  {
   "cell_type": "code",
   "execution_count": 5,
   "id": "c438e591-eb7d-49d4-95ea-d14ef7f9f7d0",
   "metadata": {},
   "outputs": [
    {
     "name": "stdout",
     "output_type": "stream",
     "text": [
      " * Serving Flask app '__main__'\n",
      " * Debug mode: on\n"
     ]
    },
    {
     "name": "stderr",
     "output_type": "stream",
     "text": [
      "WARNING: This is a development server. Do not use it in a production deployment. Use a production WSGI server instead.\n",
      " * Running on http://127.0.0.1:5000\n",
      "Press CTRL+C to quit\n",
      " * Restarting with stat\n"
     ]
    },
    {
     "ename": "SystemExit",
     "evalue": "1",
     "output_type": "error",
     "traceback": [
      "An exception has occurred, use %tb to see the full traceback.\n",
      "\u001b[1;31mSystemExit\u001b[0m\u001b[1;31m:\u001b[0m 1\n"
     ]
    }
   ],
   "source": [
    "from flask import Flask, request, render_template\n",
    "import numpy as np\n",
    "from tensorflow.keras.preprocessing import image\n",
    "\n",
    "app = Flask(__name__)\n",
    "\n",
    "# Load the saved model\n",
    "model = tf.keras.models.load_model(\"eye_disease_model.h5\")\n",
    "\n",
    "# Define the class labels\n",
    "class_labels = ['cataract', 'glaucoma', 'normal', 'diabetic_retinopathy']\n",
    "\n",
    "# Define the image size\n",
    "image_size = (222, 222)\n",
    "\n",
    "@app.route('/')\n",
    "def upload_file():\n",
    "    return render_template('upload.html')\n",
    "\n",
    "@app.route('/predict', methods=['POST'])\n",
    "def predict():\n",
    "    if request.method == 'POST':\n",
    "        # Get the uploaded image file\n",
    "        img_file = request.files['image']\n",
    "        \n",
    "        # Check if the file is empty\n",
    "        if img_file.filename == '':\n",
    "            return render_template('upload.html', prediction_text='No image selected')\n",
    "        \n",
    "        # Read and preprocess the image\n",
    "        img = image.load_img(img_file, target_size=(image_size[0], image_size[1]))\n",
    "        img_array = image.img_to_array(img)\n",
    "        img_array = np.expand_dims(img_array, axis=0) / 255.0  # Normalize pixel values\n",
    "        \n",
    "        # Make prediction\n",
    "        predictions = model.predict(img_array)\n",
    "        \n",
    "        # Get the predicted class label\n",
    "        predicted_label_index = np.argmax(predictions[0])\n",
    "        predicted_label = class_labels[predicted_label_index]\n",
    "        \n",
    "        return render_template('upload.html', prediction_text='Predicted class: {}'.format(predicted_label))\n",
    "\n",
    "if __name__ == '__main__':\n",
    "    app.run(debug=True)\n"
   ]
  },
  {
   "cell_type": "code",
   "execution_count": null,
   "id": "ef2aa1f7-3e68-4e0e-a877-031d17da6fc3",
   "metadata": {},
   "outputs": [],
   "source": []
  },
  {
   "cell_type": "code",
   "execution_count": null,
   "id": "34479bb6-a18c-4c90-a530-eedc278eaf8e",
   "metadata": {},
   "outputs": [],
   "source": []
  },
  {
   "cell_type": "code",
   "execution_count": null,
   "id": "e558d0d0-e892-469d-a002-974e66c47ef3",
   "metadata": {},
   "outputs": [],
   "source": []
  },
  {
   "cell_type": "code",
   "execution_count": null,
   "id": "ff1d4919-52f4-4bab-a09a-5dac69353254",
   "metadata": {},
   "outputs": [],
   "source": []
  },
  {
   "cell_type": "code",
   "execution_count": 2,
   "id": "1f0403ba-4dc9-447e-ad1a-918a31d0dc3a",
   "metadata": {},
   "outputs": [],
   "source": [
    "from flask import Flask, render_template, request, jsonify\n",
    "import numpy as np\n",
    "from tensorflow.keras.preprocessing import image\n"
   ]
  },
  {
   "cell_type": "code",
   "execution_count": 3,
   "id": "3fe87cd7-aa01-423e-a852-4fc44957b74a",
   "metadata": {},
   "outputs": [],
   "source": [
    "import tensorflow as tf"
   ]
  },
  {
   "cell_type": "code",
   "execution_count": 3,
   "id": "773e9a6d-6101-40cb-8d66-f975fdcc21b7",
   "metadata": {},
   "outputs": [
    {
     "name": "stdout",
     "output_type": "stream",
     "text": [
      " * Serving Flask app '__main__'\n",
      " * Debug mode: on\n"
     ]
    },
    {
     "name": "stderr",
     "output_type": "stream",
     "text": [
      "WARNING: This is a development server. Do not use it in a production deployment. Use a production WSGI server instead.\n",
      " * Running on http://127.0.0.1:5000\n",
      "Press CTRL+C to quit\n",
      " * Restarting with stat\n"
     ]
    },
    {
     "ename": "SystemExit",
     "evalue": "1",
     "output_type": "error",
     "traceback": [
      "An exception has occurred, use %tb to see the full traceback.\n",
      "\u001b[1;31mSystemExit\u001b[0m\u001b[1;31m:\u001b[0m 1\n"
     ]
    },
    {
     "name": "stderr",
     "output_type": "stream",
     "text": [
      "C:\\Users\\lant\\AppData\\Local\\Packages\\PythonSoftwareFoundation.Python.3.11_qbz5n2kfra8p0\\LocalCache\\local-packages\\Python311\\site-packages\\IPython\\core\\interactiveshell.py:3534: UserWarning: To exit: use 'exit', 'quit', or Ctrl-D.\n",
      "  warn(\"To exit: use 'exit', 'quit', or Ctrl-D.\", stacklevel=1)\n"
     ]
    }
   ],
   "source": [
    "\n",
    "app = Flask(__name__)\n",
    "\n",
    "model = tf.keras.models.load_model(\"eye_disease_model.h5\")  # Load your pre-trained model here\n",
    "class_labels = ['cataract', 'glaucoma', 'normal', 'diabetic_retinopathy']\n",
    "\n",
    "@app.route('/')\n",
    "def index():\n",
    "    return render_template('index.html')\n",
    "\n",
    "@app.route('/predict', methods=['POST'])\n",
    "def predict():\n",
    "    file = request.files['file']\n",
    "    img = image.load_img(file, target_size=(222, 222))\n",
    "    img_array = image.img_to_array(img)\n",
    "    img_array = np.expand_dims(img_array, axis=0) / 255.0\n",
    "\n",
    "    predictions = model.predict(img_array)\n",
    "    predicted_label_index = np.argmax(predictions[0])\n",
    "    predicted_class = class_labels[predicted_label_index]\n",
    "\n",
    "    return jsonify({'predicted_class': predicted_class})\n",
    "\n",
    "if __name__ == '__main__':\n",
    "    app.run(debug=True)\n"
   ]
  },
  {
   "cell_type": "code",
   "execution_count": null,
   "id": "5817f735-18ce-473c-b561-57a1a506ae7f",
   "metadata": {},
   "outputs": [],
   "source": []
  },
  {
   "cell_type": "code",
   "execution_count": null,
   "id": "b7e4a02d-cda6-4c26-b862-1093ea2628f4",
   "metadata": {},
   "outputs": [],
   "source": []
  },
  {
   "cell_type": "code",
   "execution_count": null,
   "id": "e4ddae9b-0905-413b-a28f-797c98c6e8b0",
   "metadata": {},
   "outputs": [],
   "source": []
  },
  {
   "cell_type": "code",
   "execution_count": null,
   "id": "b971b985-580c-4bc2-90f6-212861de2368",
   "metadata": {},
   "outputs": [],
   "source": []
  },
  {
   "cell_type": "code",
   "execution_count": null,
   "id": "0ef35524-ce94-4985-a316-21f4354ee41b",
   "metadata": {},
   "outputs": [],
   "source": []
  },
  {
   "cell_type": "code",
   "execution_count": null,
   "id": "c600110a-99de-46cf-bc64-dc0ca92280b7",
   "metadata": {},
   "outputs": [],
   "source": []
  },
  {
   "cell_type": "code",
   "execution_count": null,
   "id": "3537783f-b36e-4018-b6d3-426f3425e075",
   "metadata": {},
   "outputs": [],
   "source": []
  },
  {
   "cell_type": "code",
   "execution_count": 6,
   "id": "94291a6e-7fb4-48e1-b45b-0b3e01e0dfd3",
   "metadata": {},
   "outputs": [
    {
     "name": "stdout",
     "output_type": "stream",
     "text": [
      " * Serving Flask app '__main__'\n",
      " * Debug mode: on\n"
     ]
    },
    {
     "name": "stderr",
     "output_type": "stream",
     "text": [
      "WARNING: This is a development server. Do not use it in a production deployment. Use a production WSGI server instead.\n",
      " * Running on http://127.0.0.1:5000\n",
      "INFO:werkzeug:\u001b[31m\u001b[1mWARNING: This is a development server. Do not use it in a production deployment. Use a production WSGI server instead.\u001b[0m\n",
      " * Running on http://127.0.0.1:5000\n",
      "Press CTRL+C to quit\n",
      "INFO:werkzeug:\u001b[33mPress CTRL+C to quit\u001b[0m\n",
      " * Restarting with stat\n",
      "INFO:werkzeug: * Restarting with stat\n"
     ]
    },
    {
     "ename": "SystemExit",
     "evalue": "1",
     "output_type": "error",
     "traceback": [
      "An exception has occurred, use %tb to see the full traceback.\n",
      "\u001b[1;31mSystemExit\u001b[0m\u001b[1;31m:\u001b[0m 1\n"
     ]
    }
   ],
   "source": [
    "import logging\n",
    "from flask import Flask\n",
    "\n",
    "app = Flask(__name__)\n",
    "\n",
    "# Configure logging\n",
    "logging.basicConfig(level=logging.INFO)  # Set logging level to INFO\n",
    "\n",
    "@app.route('/')\n",
    "def index():\n",
    "    app.logger.info('Hello, logging!')\n",
    "    return 'Hello, World!'\n",
    "\n",
    "if __name__ == '__main__':\n",
    "    app.run(debug=True)\n"
   ]
  },
  {
   "cell_type": "code",
   "execution_count": null,
   "id": "f117d8c7-8814-46fd-addd-bb5da6217045",
   "metadata": {},
   "outputs": [],
   "source": []
  }
 ],
 "metadata": {
  "kernelspec": {
   "display_name": "Python 3 (ipykernel)",
   "language": "python",
   "name": "python3"
  },
  "language_info": {
   "codemirror_mode": {
    "name": "ipython",
    "version": 3
   },
   "file_extension": ".py",
   "mimetype": "text/x-python",
   "name": "python",
   "nbconvert_exporter": "python",
   "pygments_lexer": "ipython3",
   "version": "3.11.8"
  }
 },
 "nbformat": 4,
 "nbformat_minor": 5
}
