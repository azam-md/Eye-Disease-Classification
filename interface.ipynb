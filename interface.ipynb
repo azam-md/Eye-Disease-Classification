{
 "cells": [
  {
   "cell_type": "code",
   "execution_count": 1,
   "id": "4e56bf4a-89d3-41e6-bd17-e37c6ca91a09",
   "metadata": {},
   "outputs": [],
   "source": [
    "import os"
   ]
  },
  {
   "cell_type": "code",
   "execution_count": 2,
   "id": "698061dd-7163-4136-9d0e-a8945cfc5d2b",
   "metadata": {},
   "outputs": [],
   "source": [
    "from flask import Flask, render_template, request\n",
    "from tensorflow.keras.models import load_model\n",
    "import numpy as np\n",
    "from PIL import Image\n",
    "import io\n"
   ]
  },
  {
   "cell_type": "code",
   "execution_count": 5,
   "id": "5e865e56-dc9b-459f-8d56-6321833abea8",
   "metadata": {},
   "outputs": [
    {
     "name": "stdout",
     "output_type": "stream",
     "text": [
      " * Serving Flask app '__main__'\n",
      " * Debug mode: on\n"
     ]
    },
    {
     "name": "stderr",
     "output_type": "stream",
     "text": [
      "WARNING: This is a development server. Do not use it in a production deployment. Use a production WSGI server instead.\n",
      " * Running on http://127.0.0.1:5000\n",
      "Press CTRL+C to quit\n",
      " * Restarting with stat\n"
     ]
    },
    {
     "ename": "SystemExit",
     "evalue": "1",
     "output_type": "error",
     "traceback": [
      "An exception has occurred, use %tb to see the full traceback.\n",
      "\u001b[1;31mSystemExit\u001b[0m\u001b[1;31m:\u001b[0m 1\n"
     ]
    }
   ],
   "source": [
    "\n",
    "app = Flask(__name__)\n",
    "model = load_model('eye_disease_model.h5')\n",
    "\n",
    "\n",
    "# Define the directory where uploaded images will be stored\n",
    "UPLOAD_FOLDER = 'uploads'\n",
    "if not os.path.exists(UPLOAD_FOLDER):\n",
    "    os.makedirs(UPLOAD_FOLDER)\n",
    "app.config['UPLOAD_FOLDER'] = UPLOAD_FOLDER\n",
    "\n",
    "# Function to preprocess the uploaded image\n",
    "def preprocess_image(image):\n",
    "    # Resize the image to match the input size expected by your model\n",
    "    resized_image = image.resize((222, 222))\n",
    "    # Convert image to numpy array\n",
    "    img_array = np.array(resized_image)\n",
    "    # Normalize pixel values\n",
    "    img_array = img_array / 255.0\n",
    "    # Expand dimensions to create a batch for the model\n",
    "    img_array = np.expand_dims(img_array, axis=0)\n",
    "    return img_array\n",
    "\n",
    "# Function to convert model predictions to class labels\n",
    "def get_class_label(prediction):\n",
    "    classes = ['Cataract', 'Diabetic Retinopathy', 'Glaucoma', 'Normal']\n",
    "    predicted_class = np.argmax(prediction)\n",
    "    return classes[predicted_class]\n",
    "\n",
    "@app.route('/')\n",
    "def index():\n",
    "    return render_template('index2.html')\n",
    "\n",
    "@app.route('/classify', methods=['POST'])\n",
    "def classify():\n",
    "    # Check if a file was uploaded\n",
    "    if 'image' not in request.files:\n",
    "        return render_template('index2.html', error='No file uploaded')\n",
    "\n",
    "    # Get the uploaded image file\n",
    "    uploaded_file = request.files.get('image')\n",
    "\n",
    "    # If the user does not select a file, browser also submit an empty part without filename\n",
    "    if uploaded_file.filename == '':\n",
    "        return render_template('index2.html', error='No selected file')\n",
    "\n",
    "    # Read the image file\n",
    "    img = Image.open(uploaded_file.stream)\n",
    "\n",
    "    # Preprocess the image\n",
    "    processed_img = preprocess_image(img)\n",
    "# Save the uploaded file\n",
    "    filename = os.path.join(app.config['UPLOAD_FOLDER'], uploaded_file.filename)\n",
    "    uploaded_file.save(filename)\n",
    "\n",
    "    # Make prediction using the model\n",
    "    prediction = model.predict(processed_img)\n",
    "\n",
    "    # Get class label\n",
    "    result = get_class_label(prediction[0])\n",
    "\n",
    "    return render_template('result.html', result=result)\n",
    "\n",
    "if __name__ == '__main__':\n",
    "    app.run(debug=True)\n"
   ]
  },
  {
   "cell_type": "code",
   "execution_count": null,
   "id": "d24311f0-9286-4f4f-9dac-d3a77b22ebf8",
   "metadata": {},
   "outputs": [],
   "source": []
  }
 ],
 "metadata": {
  "kernelspec": {
   "display_name": "Python 3 (ipykernel)",
   "language": "python",
   "name": "python3"
  },
  "language_info": {
   "codemirror_mode": {
    "name": "ipython",
    "version": 3
   },
   "file_extension": ".py",
   "mimetype": "text/x-python",
   "name": "python",
   "nbconvert_exporter": "python",
   "pygments_lexer": "ipython3",
   "version": "3.11.9"
  }
 },
 "nbformat": 4,
 "nbformat_minor": 5
}
